{
 "cells": [
  {
   "cell_type": "code",
   "execution_count": 7,
   "id": "86973d44",
   "metadata": {},
   "outputs": [],
   "source": [
    "from VecSim import *\n",
    "import numpy as np\n",
    "\n",
    "dim = 128\n",
    "num_elements = 1000\n",
    "\n",
    "# Create a brute force index for vectors of 128 floats. Use 'L2' as the distance metric\n",
    "bf_params = BFParams()\n",
    "bf_params.initialCapacity = num_elements\n",
    "bf_params.blockSize = num_elements\n",
    "bf_index = BFIndex(bf_params, VecSimType_FLOAT32, dim, VecSimMetric_L2)\n"
   ]
  },
  {
   "cell_type": "code",
   "execution_count": 8,
   "id": "03ff62d4",
   "metadata": {},
   "outputs": [
    {
     "name": "stdout",
     "output_type": "stream",
     "text": [
      "Index size: 1000\n"
     ]
    }
   ],
   "source": [
    "# Add 1M random vectors to the index\n",
    "data = np.float32(np.random.random((num_elements, dim)))\n",
    "vectors = []\n",
    "\n",
    "for i, vector in enumerate(data):\n",
    "    bf_index.add_vector(vector, i)\n",
    "    vectors.append((i, vector))\n",
    "\n",
    "print(f'Index size: {bf_index.index_size()}')"
   ]
  },
  {
   "cell_type": "code",
   "execution_count": 9,
   "id": "bc831b57",
   "metadata": {},
   "outputs": [],
   "source": [
    "# Create a random query vector\n",
    "query_data = np.float32(np.random.random((1, dim)))\n",
    "\n",
    "# Create batch iterator for this query vector\n",
    "batch_iterator = BFBatchIterator(bf_index, query_data)\n",
    "returned_results_num = 0"
   ]
  },
  {
   "cell_type": "code",
   "execution_count": 10,
   "id": "a3c3fbee",
   "metadata": {},
   "outputs": [
    {
     "name": "stdout",
     "output_type": "stream",
     "text": [
      "Results in rank 0-100 are: \n",
      "\n",
      "labels: [[838 671 170 797 755   9 273 748 398 601 508 815 353 847 921 212 311 684\n",
      "  456 138 240 813 259 465  80 872 177 461 506 565 862 379 979 922 495 985\n",
      "  323 218 631  18 701 149 931 338 852 293 142 467 574 129 151 913 377 394\n",
      "  900 278 578 956 363 726 115 790 821 683  62 807 958 600 322  73  17 516\n",
      "  190 954 472 704 760 104 298 577 795 277  11 478 560 728 553 653 761 521\n",
      "  687 175  59 189 337 621 103 849 295 545]]\n",
      "scores: [[16.183123 16.2841   16.43007  16.557827 17.128029 17.178886 17.238358\n",
      "  17.356022 17.835823 17.858393 17.907871 18.027369 18.047752 18.0821\n",
      "  18.21483  18.252707 18.26205  18.30121  18.32915  18.372751 18.388922\n",
      "  18.412844 18.428331 18.443605 18.455826 18.473446 18.486614 18.496714\n",
      "  18.501905 18.506962 18.530903 18.619265 18.639282 18.730307 18.735428\n",
      "  18.735508 18.846548 18.911098 18.963318 18.971342 18.979776 19.023056\n",
      "  19.023413 19.03611  19.058432 19.159397 19.166912 19.167627 19.178741\n",
      "  19.190182 19.237139 19.254782 19.257042 19.26457  19.301851 19.309452\n",
      "  19.320225 19.324707 19.330864 19.334244 19.349619 19.3885   19.395632\n",
      "  19.400795 19.406591 19.407726 19.4163   19.43502  19.436672 19.447746\n",
      "  19.450624 19.484673 19.512472 19.525629 19.530819 19.54555  19.601355\n",
      "  19.609499 19.613178 19.626394 19.652733 19.67096  19.676384 19.685251\n",
      "  19.706856 19.741928 19.764622 19.768538 19.775745 19.776527 19.776836\n",
      "  19.810318 19.822292 19.852901 19.866192 19.868118 19.874584 19.877504\n",
      "  19.885744 19.892288]]\n"
     ]
    }
   ],
   "source": [
    "# Get the next best results\n",
    "batch_size = 100\n",
    "labels, distances = batch_iterator.get_next_results(batch_size, BY_SCORE)\n",
    "\n",
    "print (f'Results in rank {returned_results_num}-{returned_results_num+len(labels[0])} are: \\n')\n",
    "print (f'labels: {labels}')\n",
    "print (f'scores: {distances}')\n",
    "\n",
    "returned_results_num += len(labels[0])"
   ]
  },
  {
   "cell_type": "code",
   "execution_count": 93,
   "id": "7925ecf6",
   "metadata": {},
   "outputs": [
    {
     "name": "stdout",
     "output_type": "stream",
     "text": [
      "Total results returned: 1000\n",
      "\n",
      "Total search time: 0.0002129077911376953\n"
     ]
    }
   ],
   "source": [
    "import time\n",
    "\n",
    "# Run batches until depleted\n",
    "batch_size = 15\n",
    "start = time.time()\n",
    "while(batch_iterator.has_next()):\n",
    "    labels, distances = batch_iterator.get_next_results(batch_size, BY_ID)\n",
    "    returned_results_num += len(labels[0])\n",
    "\n",
    "print(f'Total results returned: {returned_results_num}\\n')\n",
    "print(f'Total search time: {time.time() - start}')"
   ]
  }
 ],
 "metadata": {
  "kernelspec": {
   "display_name": "Python [conda env:vsim] *",
   "language": "python",
   "name": "conda-env-vsim-py"
  },
  "language_info": {
   "codemirror_mode": {
    "name": "ipython",
    "version": 3
   },
   "file_extension": ".py",
   "mimetype": "text/x-python",
   "name": "python",
   "nbconvert_exporter": "python",
   "pygments_lexer": "ipython3",
   "version": "3.8.12"
  }
 },
 "nbformat": 4,
 "nbformat_minor": 5
}

{
 "cells": [
  {
   "cell_type": "code",
   "execution_count": 85,
   "id": "86973d44",
   "metadata": {},
   "outputs": [],
   "source": [
    "from VecSim import *\n",
    "import numpy as np\n",
    "\n",
    "dim = 100\n",
    "num_elements = 100000\n",
    "M = 16\n",
    "efConstruction = 100\n",
    "efRuntime = 100\n",
    "\n",
    "# Create a hnsw index for vectors of 128 floats. Use 'L2' as the distance metric\n",
    "hnswparams = HNSWParams()\n",
    "hnswparams.M = M\n",
    "hnswparams.efConstruction = efConstruction\n",
    "hnswparams.initialCapacity = num_elements\n",
    "hnswparams.efRuntime = efRuntime\n",
    "hnswparams.dim = dim\n",
    "hnswparams.type = VecSimType_FLOAT32\n",
    "hnswparams.metric = VecSimMetric_L2\n",
    "\n",
    "hnsw_index = HNSWIndex(hnswparams)\n"
   ]
  },
  {
   "cell_type": "code",
   "execution_count": 86,
   "id": "03ff62d4",
   "metadata": {},
   "outputs": [
    {
     "name": "stdout",
     "output_type": "stream",
     "text": [
      "Index size: 100000\n"
     ]
    }
   ],
   "source": [
    "# Add 10k random vectors to the index\n",
    "data = np.float32(np.random.random((num_elements, dim)))\n",
    "vectors = []\n",
    "\n",
    "for i, vector in enumerate(data):\n",
    "    hnsw_index.add_vector(vector, i)\n",
    "    vectors.append((i, vector))\n",
    "\n",
    "print(f'Index size: {hnsw_index.index_size()}')"
   ]
  },
  {
   "cell_type": "code",
   "execution_count": 115,
   "id": "bc831b57",
   "metadata": {},
   "outputs": [],
   "source": [
    "# Create a random query vector\n",
    "query_data = np.float32(np.random.random((1, dim)))\n",
    "\n",
    "# Create batch iterator for this query vector\n",
    "batch_iterator = hnsw_index.create_batch_iterator(query_data)\n",
    "returned_results_num = 0\n",
    "accumulated_labels = []\n",
    "total_time = 0\n",
    "\n",
    "from scipy import spatial\n",
    "\n",
    "# Sort distances of every vector from the target vector and get the actual order\n",
    "dists = [(spatial.distance.euclidean(query_data, vec), key) for key, vec in vectors]\n",
    "dists = sorted(dists)"
   ]
  },
  {
   "cell_type": "code",
   "execution_count": 121,
   "id": "a3c3fbee",
   "metadata": {
    "scrolled": true
   },
   "outputs": [
    {
     "name": "stdout",
     "output_type": "stream",
     "text": [
      "Results in rank 400-500 are: \n",
      "\n",
      "labels: [[85602 71886 38586 20840 16501  9839 97131 12163 19486 16846 69316 18421\n",
      "  28723 82420   847 55222 78395 57627 47447 21985 71618 18576 37049 25449\n",
      "  84838 20458 24685 90356 44151 39332 51179 30482 19220 34277  4330 68411\n",
      "  86330 28165  2344 60693 85314 72024 48715 86599   452 58873 38753 10933\n",
      "  33191 33220 77016 54614 38673 92305 76387 20629 22731 84288 57485 48644\n",
      "  11157 15929 44771 24178  6345  9757 56028 15974 80509 75234 87195 21142\n",
      "  21638 32903 41129 18624 85677 16031 97265 39388 58320 41818 93700 76566\n",
      "  95609 99288 78509 63325 84756 91322 18325  3898 19954 30765   944 83791\n",
      "  53090 77805 20235 86845]]\n",
      "scores: [[11.139572  11.2511835 11.4095745 11.443998  11.448523  11.462155\n",
      "  11.532776  11.589312  11.592493  11.612871  11.61525   11.637443\n",
      "  11.6501465 11.689689  11.694485  11.695381  11.704545  11.720498\n",
      "  11.909647  11.942846  11.968911  11.996417  12.042768  12.067334\n",
      "  12.067562  12.079513  12.081314  12.082407  12.083362  12.085071\n",
      "  12.087385  12.090126  12.090282  12.091046  12.091255  12.091374\n",
      "  12.092392  12.092597  12.093908  12.094399  12.095866  12.096534\n",
      "  12.097337  12.098     12.099864  12.100597  12.10132   12.106525\n",
      "  12.107019  12.109125  12.110073  12.111108  12.111336  12.111736\n",
      "  12.112492  12.11362   12.114211  12.115233  12.115531  12.116664\n",
      "  12.118886  12.119527  12.120818  12.131588  12.132476  12.134265\n",
      "  12.134375  12.135365  12.135608  12.139107  12.140111  12.140148\n",
      "  12.140561  12.140929  12.141042  12.141672  12.142455  12.144067\n",
      "  12.145293  12.145982  12.146368  12.147359  12.148206  12.149224\n",
      "  12.15004   12.150675  12.151751  12.15205   12.152303  12.153545\n",
      "  12.155535  12.155969  12.159894  12.160487  12.160673  12.16103\n",
      "  12.16264   12.162862  12.166361  12.17015  ]]\n"
     ]
    }
   ],
   "source": [
    "# Get the next best results\n",
    "\n",
    "start = time.time()\n",
    "batch_size = 100\n",
    "labels, distances = batch_iterator.get_next_results(batch_size, BY_SCORE)\n",
    "total_time = time.time()-start\n",
    "\n",
    "print (f'Results in rank {returned_results_num}-{returned_results_num+len(labels[0])} are: \\n')\n",
    "print (f'labels: {labels}')\n",
    "print (f'scores: {distances}')\n",
    "\n",
    "returned_results_num += len(labels[0])\n",
    "accumulated_labels.extend(labels[0])\n"
   ]
  },
  {
   "cell_type": "code",
   "execution_count": 122,
   "id": "c9283d37",
   "metadata": {},
   "outputs": [
    {
     "name": "stdout",
     "output_type": "stream",
     "text": [
      "Total search time: 0.0006246566772460938\n",
      "Recall for 500 results in index of size 100000 with dim=100 is:  0.768\n"
     ]
    }
   ],
   "source": [
    "# Measure recall and time\n",
    "\n",
    "keys = [key for _, key in dists[:returned_results_num]]\n",
    "correct = len(set(accumulated_labels).intersection(set(keys)))\n",
    "\n",
    "print(f'Total search time: {total_time}')\n",
    "print(f'Recall for {returned_results_num} results in index of size {num_elements} with dim={dim} is: ', correct/returned_results_num)"
   ]
  },
  {
   "cell_type": "code",
   "execution_count": 130,
   "id": "7925ecf6",
   "metadata": {},
   "outputs": [
    {
     "name": "stdout",
     "output_type": "stream",
     "text": [
      "Total results returned: 99994\n",
      "\n",
      "Total search time: 0.06823587417602539\n"
     ]
    }
   ],
   "source": [
    "# Run batches until depleted\n",
    "batch_iterator.reset()\n",
    "returned_results_num = 0\n",
    "batch_size = 20\n",
    "start = time.time()\n",
    "while(batch_iterator.has_next()):\n",
    "    labels, distances = batch_iterator.get_next_results(batch_size, BY_ID)\n",
    "    returned_results_num += len(labels[0])\n",
    "\n",
    "print(f'Total results returned: {returned_results_num}\\n')\n",
    "print(f'Total search time: {time.time() - start}')"
   ]
  }
 ],
 "metadata": {
  "kernelspec": {
   "display_name": "Python [conda env:vsim] *",
   "language": "python",
   "name": "conda-env-vsim-py"
  },
  "language_info": {
   "codemirror_mode": {
    "name": "ipython",
    "version": 3
   },
   "file_extension": ".py",
   "mimetype": "text/x-python",
   "name": "python",
   "nbconvert_exporter": "python",
   "pygments_lexer": "ipython3",
   "version": "3.8.12"
  }
 },
 "nbformat": 4,
 "nbformat_minor": 5
}

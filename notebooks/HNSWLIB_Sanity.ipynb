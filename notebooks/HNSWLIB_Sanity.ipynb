{
 "cells": [
  {
   "cell_type": "code",
   "execution_count": 1,
   "source": [
    "from VecSim import *\n",
    "import numpy as np\n",
    "import hnswlib"
   ],
   "outputs": [],
   "metadata": {}
  },
  {
   "cell_type": "code",
   "execution_count": 2,
   "source": [
    "dim = 16\n",
    "num_elements = 10000\n",
    "space = 'l2'\n",
    "M=16\n",
    "efConstruction = 100\n",
    "efRuntime = 10"
   ],
   "outputs": [],
   "metadata": {}
  },
  {
   "cell_type": "markdown",
   "source": [
    "### Build RedisLabs VecSim HNSWLib Index"
   ],
   "metadata": {}
  },
  {
   "cell_type": "code",
   "execution_count": 3,
   "source": [
    "params = VecSimParams()\n",
    "hnswparams = HNSWParams()\n",
    "\n",
    "params.algo = VecSimAlgo_HNSWLIB\n",
    "params.dim = dim\n",
    "params.metric = VecSimMetric_L2\n",
    "params.type = VecSimType_FLOAT32\n",
    "\n",
    "hnswparams.M = M\n",
    "hnswparams.efConstruction = efConstruction\n",
    "hnswparams.initialCapacity = num_elements\n",
    "hnswparams.efRuntime=efRuntime\n",
    "\n",
    "params.hnswParams = hnswparams\n",
    "index = VecSimIndex(params)"
   ],
   "outputs": [],
   "metadata": {}
  },
  {
   "cell_type": "markdown",
   "source": [
    "### Build HNSWLib index"
   ],
   "metadata": {}
  },
  {
   "cell_type": "code",
   "execution_count": 4,
   "source": [
    "p = hnswlib.Index(space='l2', dim=dim)\n",
    "p.init_index(max_elements=num_elements, ef_construction=efConstruction, M=M)\n",
    "p.set_ef(efRuntime)"
   ],
   "outputs": [],
   "metadata": {}
  },
  {
   "cell_type": "markdown",
   "source": [
    "### Load data"
   ],
   "metadata": {}
  },
  {
   "cell_type": "code",
   "execution_count": 5,
   "source": [
    "data = np.float32(np.random.random((num_elements, dim)))\n",
    "for i, vector in enumerate(data):\n",
    "    index.add_vector(vector, i)\n",
    "    p.add_items(vector, i)"
   ],
   "outputs": [],
   "metadata": {}
  },
  {
   "cell_type": "markdown",
   "source": [
    "### Test"
   ],
   "metadata": {}
  },
  {
   "cell_type": "code",
   "execution_count": 6,
   "source": [
    "import unittest\n",
    "from  numpy.testing import assert_array_equal\n",
    "\n",
    "class TestNotebook(unittest.TestCase):\n",
    "    \n",
    "    def test_index(self):\n",
    "        for vector in data:\n",
    "            hnswlib_labels, hnswlib_distances = p.knn_query(vector, k=10)\n",
    "            redis_labels, redis_distances = index.knn_query(vector, 10)\n",
    "            assert_array_equal(hnswlib_labels, redis_labels)\n",
    "            assert_array_equal(hnswlib_distances, redis_distances)\n",
    "        \n",
    "\n",
    "unittest.main(argv=[''], verbosity=2, exit=False)"
   ],
   "outputs": [
    {
     "output_type": "stream",
     "name": "stderr",
     "text": [
      "test_index (__main__.TestNotebook) ... ok\n",
      "\n",
      "----------------------------------------------------------------------\n",
      "Ran 1 test in 0.790s\n",
      "\n",
      "OK\n"
     ]
    },
    {
     "output_type": "execute_result",
     "data": {
      "text/plain": [
       "<unittest.main.TestProgram at 0x7fcda8405df0>"
      ]
     },
     "metadata": {},
     "execution_count": 6
    }
   ],
   "metadata": {}
  }
 ],
 "metadata": {
  "kernelspec": {
   "display_name": "Python 3 (ipykernel)",
   "language": "python",
   "name": "python3"
  },
  "language_info": {
   "codemirror_mode": {
    "name": "ipython",
    "version": 3
   },
   "file_extension": ".py",
   "mimetype": "text/x-python",
   "name": "python",
   "nbconvert_exporter": "python",
   "pygments_lexer": "ipython3",
   "version": "3.8.5"
  }
 },
 "nbformat": 4,
 "nbformat_minor": 4
}
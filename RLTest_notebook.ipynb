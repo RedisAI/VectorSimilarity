{
 "cells": [
  {
   "cell_type": "code",
   "execution_count": 1,
   "metadata": {},
   "outputs": [
    {
     "data": {
      "text/plain": [
       "True"
      ]
     },
     "execution_count": 1,
     "metadata": {},
     "output_type": "execute_result"
    }
   ],
   "source": [
    "import redis\n",
    "\n",
    "con = redis.Redis()\n",
    "con.ping()"
   ]
  },
  {
   "cell_type": "code",
   "execution_count": 2,
   "metadata": {},
   "outputs": [
    {
     "data": {
      "text/plain": [
       "{'used_memory': 934528,\n",
       " 'used_memory_human': '912.62K',\n",
       " 'used_memory_rss': 5177344,\n",
       " 'used_memory_rss_human': '4.94M',\n",
       " 'used_memory_peak': 934528,\n",
       " 'used_memory_peak_human': '912.62K',\n",
       " 'used_memory_peak_perc': '100.00%',\n",
       " 'used_memory_overhead': 900976,\n",
       " 'used_memory_startup': 883800,\n",
       " 'used_memory_dataset': 33552,\n",
       " 'used_memory_dataset_perc': '66.14%',\n",
       " 'allocator_allocated': 901592,\n",
       " 'allocator_active': 5139456,\n",
       " 'allocator_resident': 5139456,\n",
       " 'total_system_memory': 67311067136,\n",
       " 'total_system_memory_human': '62.69G',\n",
       " 'used_memory_lua': 37888,\n",
       " 'used_memory_lua_human': '37.00K',\n",
       " 'used_memory_scripts': 0,\n",
       " 'used_memory_scripts_human': '0B',\n",
       " 'number_of_cached_scripts': 0,\n",
       " 'maxmemory': 0,\n",
       " 'maxmemory_human': '0B',\n",
       " 'maxmemory_policy': 'noeviction',\n",
       " 'allocator_frag_ratio': 5.7,\n",
       " 'allocator_frag_bytes': 4237864,\n",
       " 'allocator_rss_ratio': 1.0,\n",
       " 'allocator_rss_bytes': 0,\n",
       " 'rss_overhead_ratio': 1.01,\n",
       " 'rss_overhead_bytes': 37888,\n",
       " 'mem_fragmentation_ratio': 5.74,\n",
       " 'mem_fragmentation_bytes': 4275752,\n",
       " 'mem_not_counted_for_evict': 0,\n",
       " 'mem_replication_backlog': 0,\n",
       " 'mem_clients_slaves': 0,\n",
       " 'mem_clients_normal': 17032,\n",
       " 'mem_aof_buffer': 0,\n",
       " 'mem_allocator': 'libc',\n",
       " 'active_defrag_running': 0,\n",
       " 'lazyfree_pending_objects': 0,\n",
       " 'lazyfreed_objects': 0}"
      ]
     },
     "execution_count": 2,
     "metadata": {},
     "output_type": "execute_result"
    }
   ],
   "source": [
    "con.set(\"x\", \";lisdjflkjshdfkjhsdkfjhmcn b,mhjsfdgkjshdgfkjhdsfkfgjhsdklfjhlk\")\n",
    "con.info(\"memory\")"
   ]
  },
  {
   "cell_type": "code",
   "execution_count": null,
   "metadata": {},
   "outputs": [],
   "source": [
    "res = con.execute_command(\"command1\")\n",
    "assert res == \"OK\""
   ]
  }
 ],
 "metadata": {
  "interpreter": {
   "hash": "c51bfc6d0d7bafb0a4f63e9b1267daed51cba2a07a70816629d387127ffd0fad"
  },
  "kernelspec": {
   "display_name": "Python 3.8.10 64-bit ('venv': venv)",
   "language": "python",
   "name": "python3"
  },
  "language_info": {
   "codemirror_mode": {
    "name": "ipython",
    "version": 3
   },
   "file_extension": ".py",
   "mimetype": "text/x-python",
   "name": "python",
   "nbconvert_exporter": "python",
   "pygments_lexer": "ipython3",
   "version": "3.8.10"
  },
  "orig_nbformat": 4
 },
 "nbformat": 4,
 "nbformat_minor": 2
}
